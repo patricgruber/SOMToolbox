{
 "cells": [
  {
   "cell_type": "code",
   "execution_count": null,
   "id": "d507858f",
   "metadata": {},
   "outputs": [],
   "source": [
    "from somtoolbox import SOMToolbox\n",
    "from SOMToolBox_Parse import SOMToolBox_Parse\n",
    "from somoclu import Somoclu"
   ]
  },
  {
   "cell_type": "markdown",
   "id": "993ae282",
   "metadata": {},
   "source": [
    "Importing data:"
   ]
  },
  {
   "cell_type": "code",
   "execution_count": null,
   "id": "2cd8c0d2",
   "metadata": {},
   "outputs": [],
   "source": [
    "idata_10clusters = SOMToolBox_Parse(\"./datasets/10clusters/10clusters.vec\").read_weight_file()\n",
    "attributes_10clusters = SOMToolBox_Parse(\"./datasets/10clusters/10clusters.tv\").read_tv_file()\n",
    "idata_chainlink = SOMToolBox_Parse(\"./datasets/chainlink/chainlink.vec\").read_weight_file()\n",
    "attributes_chainlink = SOMToolBox_Parse(\"./datasets/chainlink/chainlink.tv\").read_tv_file()"
   ]
  },
  {
   "cell_type": "markdown",
   "id": "3a0405a1",
   "metadata": {},
   "source": [
    "Parameter space:"
   ]
  },
  {
   "cell_type": "code",
   "execution_count": null,
   "id": "91ff30cd",
   "metadata": {},
   "outputs": [],
   "source": [
    "net_size = (20,20)\n",
    "radius = [(min(net_size[0], net_size[1])/2, 1), \n",
    "          (min(net_size[0], net_size[1])/10, min(net_size[0], net_size[1])/10), \n",
    "          (min(net_size[0], net_size[1]), min(net_size[0], net_size[1])/2)]\n",
    "scale = [(0.7, 0.7), (0.1, 0.01), (1, 0.01)]\n",
    "initialization = [\"pca\", \"random\"]\n",
    "neighborhood = [\"bubble\", \"gaussian\"]"
   ]
  },
  {
   "cell_type": "code",
   "execution_count": null,
   "id": "d0c80a78",
   "metadata": {
    "scrolled": false
   },
   "outputs": [],
   "source": [
    "def generate_plots_for_dataset(idata, attributes):\n",
    "    comp_number = len(attributes)\n",
    "    iterations = 500\n",
    "    for (radius0, radiusN) in radius:\n",
    "        som = Somoclu(net_size[0], net_size[1])\n",
    "        som.train(idata['arr'], iterations, radius0 = radius0, radiusN = radiusN)\n",
    "        weights = som.codebook.reshape(-1, comp_number)\n",
    "        sm = SOMToolbox(weights=weights, m=net_size[1], n=net_size[0], dimension=comp_number, input_data=idata['arr'], component_names=attributes)\n",
    "        display(\"radius0: \" + str(radius0) + \" radiusN: \" + str(radiusN))\n",
    "        display(sm._mainview)\n",
    "\n",
    "    for (scale0, scaleN) in scale:\n",
    "        som = Somoclu(net_size[0], net_size[1])\n",
    "        som.train(idata['arr'], iterations, scale0 = scale0, scaleN = scaleN)\n",
    "        weights = som.codebook.reshape(-1, comp_number)\n",
    "        sm = SOMToolbox(weights=weights, m=net_size[1], n=net_size[0], dimension=comp_number, input_data=idata['arr'], component_names=attributes)\n",
    "        display(\"scale0: \" + str(scale0) + \" scaleN: \" + str(scaleN))\n",
    "        display(sm._mainview)\n",
    "\n",
    "    for init_strat in initialization:\n",
    "        som = Somoclu(net_size[0], net_size[1], initialization = init_strat)\n",
    "        som.train(idata['arr'], iterations)\n",
    "        weights = som.codebook.reshape(-1, comp_number)\n",
    "        sm = SOMToolbox(weights=weights, m=net_size[1], n=net_size[0], dimension=comp_number, input_data=idata['arr'], component_names=attributes)\n",
    "        display(\"init_strat: \" + str(init_strat))\n",
    "        display(sm._mainview)\n",
    "\n",
    "    for neighborhood_strat in neighborhood:\n",
    "        som = Somoclu(net_size[0], net_size[1], neighborhood = neighborhood_strat)\n",
    "        som.train(idata['arr'], iterations)\n",
    "        weights = som.codebook.reshape(-1, comp_number)\n",
    "        sm = SOMToolbox(weights=weights, m=net_size[1], n=net_size[0], dimension=comp_number, input_data=idata['arr'], component_names=attributes)\n",
    "        display(\"neighborhood_strat: \" + str(neighborhood_strat))\n",
    "        display(sm._mainview)\n"
   ]
  },
  {
   "cell_type": "code",
   "execution_count": null,
   "id": "5abb785e",
   "metadata": {},
   "outputs": [],
   "source": [
    "generate_plots_for_dataset(idata_10clusters, attributes_10clusters)"
   ]
  },
  {
   "cell_type": "code",
   "execution_count": null,
   "id": "a07b8d55",
   "metadata": {},
   "outputs": [],
   "source": [
    "generate_plots_for_dataset(idata_chainlink, attributes_chainlink)"
   ]
  },
  {
   "cell_type": "code",
   "execution_count": null,
   "id": "8a1dd719",
   "metadata": {},
   "outputs": [],
   "source": []
  }
 ],
 "metadata": {
  "kernelspec": {
   "display_name": "Python 3 (ipykernel)",
   "language": "python",
   "name": "python3"
  },
  "language_info": {
   "codemirror_mode": {
    "name": "ipython",
    "version": 3
   },
   "file_extension": ".py",
   "mimetype": "text/x-python",
   "name": "python",
   "nbconvert_exporter": "python",
   "pygments_lexer": "ipython3",
   "version": "3.8.12"
  }
 },
 "nbformat": 4,
 "nbformat_minor": 5
}
